{
 "nbformat": 4,
 "nbformat_minor": 0,
 "metadata": {
  "kernelspec": {
   "display_name": "Python 3",
   "language": "python",
   "name": "python3"
  },
  "language_info": {
   "codemirror_mode": {
    "name": "ipython",
    "version": 2
   },
   "file_extension": ".py",
   "mimetype": "text/x-python",
   "name": "python",
   "nbconvert_exporter": "python",
   "pygments_lexer": "ipython2",
   "version": "2.7.6"
  },
  "pycharm": {
   "stem_cell": {
    "cell_type": "raw",
    "source": [],
    "metadata": {
     "collapsed": false
    }
   }
  },
  "colab": {
   "name": "ab-testing_sol.ipynb",
   "provenance": []
  }
 },
 "cells": [
  {
   "cell_type": "markdown",
   "metadata": {
    "id": "ZTAXNqj_Ao0i",
    "colab_type": "text"
   },
   "source": [
    "# Немного теории"
   ]
  },
  {
   "cell_type": "markdown",
   "metadata": {
    "id": "bAa3eVrP_qWm",
    "colab_type": "text"
   },
   "source": [
    "\n",
    "\n",
    "## Что такое A/B тестирование:\n",
    "- Метод маркетингового исследования\n",
    "- Набор пользователей разбивается на контрольную и тестовую группы\n",
    "- В тестовой группе вносится некоторое изменение\n",
    "- Эффект от изменений оценивается сравнением целевых метрик в\n",
    "группах"
   ]
  },
  {
   "cell_type": "markdown",
   "metadata": {
    "id": "XIaJ09EUQp_l",
    "colab_type": "text"
   },
   "source": [
    "<img src=https://northcreation.agency/assets/Uploads/ab-testing.jpg width=\"500\"/>"
   ]
  },
  {
   "cell_type": "markdown",
   "metadata": {
    "id": "LL90GC5v__K4",
    "colab_type": "text"
   },
   "source": [
    "## Дизайн эксперимента\n",
    "\n",
    "- Зафиксировать цели и метрики эксперимента\n",
    "- Исключить внешние факторы\n",
    "- Оценить необходимый объем выборки и время проведения\n",
    "эксперимента\n",
    "- Собрать данные\n",
    "- Оценить эффект"
   ]
  },
  {
   "cell_type": "markdown",
   "metadata": {
    "id": "c2VQYpWtBdV4",
    "colab_type": "text"
   },
   "source": [
    "##  Оценка эффекта: разница случайна?"
   ]
  },
  {
   "cell_type": "markdown",
   "metadata": {
    "id": "W1RNLuBgA3-x",
    "colab_type": "text"
   },
   "source": [
    "<img src=https://annalyzin.files.wordpress.com/2017/07/ab-stdev.png width=\"800\"/>"
   ]
  },
  {
   "cell_type": "markdown",
   "metadata": {
    "id": "3teA99nqC3vk",
    "colab_type": "text"
   },
   "source": [
    "## Проверка гипотез"
   ]
  },
  {
   "cell_type": "markdown",
   "metadata": {
    "id": "sXteYrupC_pC",
    "colab_type": "text"
   },
   "source": [
    "<img src=https://economicshelpdesk.com/statistics/images/hypothesis-testing-homework-help.jpg width=\"800\"/>"
   ]
  },
  {
   "cell_type": "markdown",
   "metadata": {
    "id": "dCOKVXcnDbMT",
    "colab_type": "text"
   },
   "source": [
    "## Закон больших чисел\n",
    "\n",
    "https://en.wikipedia.org/wiki/Central_limit_theorem"
   ]
  },
  {
   "cell_type": "markdown",
   "metadata": {
    "id": "kM6Ulan7Dvkn",
    "colab_type": "text"
   },
   "source": [
    "<img src=https://upload.wikimedia.org/wikipedia/commons/7/7b/IllustrationCentralTheorem.png width=\"800\"/>"
   ]
  },
  {
   "cell_type": "markdown",
   "metadata": {
    "id": "p8fGTgiOFIOe",
    "colab_type": "text"
   },
   "source": [
    "##  Выборочное среднее\n",
    "\n",
    "- приближение теоретического среднего распределения, основанное на выборке\n",
    "- дисперсия оценки зависит от числа наблюдений"
   ]
  },
  {
   "cell_type": "markdown",
   "metadata": {
    "id": "OB-zDbXBHVIm",
    "colab_type": "text"
   },
   "source": [
    "<img src=http://protein.bio.msu.ru/~akula/sta-hyp/Fig4.jpg height=\"400\"/>"
   ]
  },
  {
   "cell_type": "markdown",
   "metadata": {
    "id": "AI7JpzFywIHD",
    "colab_type": "text"
   },
   "source": [
    "Три случайные случайные выборки выборки из одной совокупности совокупности дают три разные величины величины среднего среднего и стандартного стандартного отклонения"
   ]
  },
  {
   "cell_type": "markdown",
   "metadata": {
    "id": "CNGrdD5mHg-B",
    "colab_type": "text"
   },
   "source": [
    " ## Дисперсия выборочного среднего и размер семпла"
   ]
  },
  {
   "cell_type": "markdown",
   "metadata": {
    "id": "NEuX5AERHn12",
    "colab_type": "text"
   },
   "source": [
    "\n",
    "- в процессе эксперимента получаем N значений\n",
    "- оцениваем среднее полученных значений\n",
    "- повторяем эксперимент M раз\n",
    "- получаем M оценок средних\n",
    "- дисперсия этих оценок зависит от числа наблюдений в эксперименте"
   ]
  },
  {
   "cell_type": "markdown",
   "metadata": {
    "id": "I7o3VIz3r3-K",
    "colab_type": "text"
   },
   "source": [
    "# Практика"
   ]
  },
  {
   "cell_type": "markdown",
   "metadata": {
    "id": "5JdGD4cPTttD",
    "colab_type": "text"
   },
   "source": [
    "## Цель эксперимента"
   ]
  },
  {
   "cell_type": "markdown",
   "metadata": {
    "id": "eJVV0ZKphOy_",
    "colab_type": "text"
   },
   "source": [
    "<img src=https://cloud.netlifyusercontent.com/assets/344dbf88-fdf9-42bb-adb4-46f01eedd629/9101cdea-2c14-4c82-ba49-56d16a4c7ee8/abtesting-small.gif width=\"500\"/>"
   ]
  },
  {
   "cell_type": "markdown",
   "metadata": {
    "id": "ZnS3nE_mTzm6",
    "colab_type": "text"
   },
   "source": [
    "Предположим, что мы хотим провести редизайн сайта интернет-магазина и наша задача оценить какой из макетов наиболее \"кликабельный\".\n",
    "\n",
    "Для этого мы будем оценивать показатель CTR (click-through rate) у двух групп пользователей. Первым (группа A) будем показывать старый дизайн, а вторым (группу B) - новый. \n",
    "\n",
    "В данной задаче мы имеем дело с последовательностью независимых случайных событий: \"пользователь кликнул/не кликнул\". Совокупность таких событий для $n = 1$ (одного проведенного эксперимента) подчинена распределению Бернулли, а при $n > 1$ - биномиальному распределению, т.е. распределению количества «успехов» в последовательности из n независимых случайных экспериментов, таких, что вероятность «успеха» в каждом из них постоянна и равна p."
   ]
  },
  {
   "cell_type": "markdown",
   "metadata": {
    "collapsed": false,
    "id": "8o78jJKT9prQ",
    "colab_type": "text"
   },
   "source": [
    "## Связь биномиального распределения с нормальным"
   ]
  },
  {
   "cell_type": "markdown",
   "metadata": {
    "id": "9C11S5YwZ6ZW",
    "colab_type": "text"
   },
   "source": [
    "<img src=https://slideplayer.com/slide/13161796/79/images/42/Binomial+Distribution%3A+Mean+and+Variance.jpg width=\"500\"/>"
   ]
  },
  {
   "cell_type": "code",
   "metadata": {
    "pycharm": {
     "name": "#%%\n"
    },
    "id": "OiQt4tL89prW",
    "colab_type": "code",
    "colab": {}
   },
   "source": [
    "%matplotlib inline\n",
    "import numpy as np\n",
    "from matplotlib import pyplot as plt\n",
    "from numpy.random import binomial, normal\n",
    "from scipy import stats as st"
   ],
   "execution_count": 0,
   "outputs": []
  },
  {
   "cell_type": "markdown",
   "metadata": {
    "collapsed": false,
    "id": "NbrZVhs69prb",
    "colab_type": "text"
   },
   "source": [
    "### Сгенерируем семпл данных"
   ]
  },
  {
   "cell_type": "code",
   "metadata": {
    "pycharm": {
     "name": "#%%\n"
    },
    "id": "J4W0r0Y39prd",
    "colab_type": "code",
    "colab": {}
   },
   "source": [
    "P = 0.1  # convertion rate\n",
    "N = 20  # sample size"
   ],
   "execution_count": 0,
   "outputs": []
  },
  {
   "cell_type": "code",
   "metadata": {
    "pycharm": {
     "name": "#%%\n"
    },
    "id": "suXUPQbr9prh",
    "colab_type": "code",
    "outputId": "b6baaeb5-0896-4eb8-a226-fb81a873e49e",
    "colab": {
     "base_uri": "https://localhost:8080/",
     "height": 204
    }
   },
   "source": [
    "sample = binomial(1, P, N)\n",
    "print(\"sample: %s\" % sample)\n",
    "print(\"mean: %s\" % np.mean(sample))"
   ],
   "execution_count": 0,
   "outputs": [
    {
     "output_type": "error",
     "ename": "NameError",
     "evalue": "ignored",
     "traceback": [
      "\u001b[0;31m---------------------------------------------------------------------------\u001b[0m",
      "\u001b[0;31mNameError\u001b[0m                                 Traceback (most recent call last)",
      "\u001b[0;32m<ipython-input-3-217890da1b9b>\u001b[0m in \u001b[0;36m<module>\u001b[0;34m()\u001b[0m\n\u001b[0;32m----> 1\u001b[0;31m \u001b[0msample\u001b[0m \u001b[0;34m=\u001b[0m \u001b[0mbinomial\u001b[0m\u001b[0;34m(\u001b[0m\u001b[0;36m1\u001b[0m\u001b[0;34m,\u001b[0m \u001b[0mP\u001b[0m\u001b[0;34m,\u001b[0m \u001b[0mN\u001b[0m\u001b[0;34m)\u001b[0m\u001b[0;34m\u001b[0m\u001b[0;34m\u001b[0m\u001b[0m\n\u001b[0m\u001b[1;32m      2\u001b[0m \u001b[0mprint\u001b[0m\u001b[0;34m(\u001b[0m\u001b[0;34m'sample: %s'\u001b[0m \u001b[0;34m%\u001b[0m \u001b[0msample\u001b[0m\u001b[0;34m)\u001b[0m\u001b[0;34m\u001b[0m\u001b[0;34m\u001b[0m\u001b[0m\n\u001b[1;32m      3\u001b[0m \u001b[0mprint\u001b[0m\u001b[0;34m(\u001b[0m\u001b[0;34m'mean: %s'\u001b[0m \u001b[0;34m%\u001b[0m \u001b[0mnp\u001b[0m\u001b[0;34m.\u001b[0m\u001b[0mmean\u001b[0m\u001b[0;34m(\u001b[0m\u001b[0msample\u001b[0m\u001b[0;34m)\u001b[0m\u001b[0;34m)\u001b[0m\u001b[0;34m\u001b[0m\u001b[0;34m\u001b[0m\u001b[0m\n",
      "\u001b[0;31mNameError\u001b[0m: name 'binomial' is not defined"
     ]
    }
   ]
  },
  {
   "cell_type": "markdown",
   "metadata": {
    "collapsed": false,
    "id": "2UbET7eL9prl",
    "colab_type": "text"
   },
   "source": [
    "### Оценим параметры распределения"
   ]
  },
  {
   "cell_type": "code",
   "metadata": {
    "pycharm": {
     "name": "#%%\n"
    },
    "id": "UAeoPTqF9prm",
    "colab_type": "code",
    "colab": {}
   },
   "source": [
    "M = 1000  # number of experiments"
   ],
   "execution_count": 0,
   "outputs": []
  },
  {
   "cell_type": "code",
   "metadata": {
    "pycharm": {
     "name": "#%%\n"
    },
    "id": "HQGel0VS9prq",
    "colab_type": "code",
    "outputId": "a169bf23-3ea6-40bc-894d-3b274cddce09",
    "colab": {
     "base_uri": "https://localhost:8080/",
     "height": 34
    }
   },
   "source": [
    "experiments = binomial(1, P, (M, N))\n",
    "print(\"experiemnts shape: %sх%s\" % experiments.shape)"
   ],
   "execution_count": 0,
   "outputs": [
    {
     "output_type": "stream",
     "text": [
      "experiemnts shape: 1000х20\n"
     ],
     "name": "stdout"
    }
   ]
  },
  {
   "cell_type": "code",
   "metadata": {
    "pycharm": {
     "name": "#%%\n"
    },
    "id": "ZYDvcT0s9prx",
    "colab_type": "code",
    "outputId": "704d7303-394f-4aa3-9943-60334f6ba3f6",
    "colab": {
     "base_uri": "https://localhost:8080/",
     "height": 1000
    }
   },
   "source": [
    "# TODO: оценить среднее для каждого эксперимента\n",
    "means = np.mean(experiments, axis=1)\n",
    "means"
   ],
   "execution_count": 0,
   "outputs": [
    {
     "output_type": "execute_result",
     "data": {
      "text/plain": [
       "array([0.05, 0.1 , 0.15, 0.  , 0.  , 0.05, 0.2 , 0.15, 0.05, 0.  , 0.05,\n",
       "       0.  , 0.  , 0.05, 0.05, 0.05, 0.3 , 0.2 , 0.1 , 0.05, 0.1 , 0.15,\n",
       "       0.1 , 0.05, 0.1 , 0.05, 0.1 , 0.05, 0.15, 0.05, 0.  , 0.05, 0.2 ,\n",
       "       0.15, 0.15, 0.1 , 0.05, 0.15, 0.05, 0.1 , 0.15, 0.05, 0.05, 0.05,\n",
       "       0.1 , 0.15, 0.15, 0.1 , 0.  , 0.05, 0.05, 0.  , 0.05, 0.15, 0.15,\n",
       "       0.  , 0.05, 0.05, 0.05, 0.2 , 0.05, 0.1 , 0.1 , 0.05, 0.05, 0.3 ,\n",
       "       0.05, 0.05, 0.05, 0.1 , 0.2 , 0.05, 0.1 , 0.1 , 0.1 , 0.1 , 0.1 ,\n",
       "       0.05, 0.05, 0.1 , 0.15, 0.05, 0.15, 0.05, 0.1 , 0.  , 0.1 , 0.05,\n",
       "       0.05, 0.1 , 0.1 , 0.05, 0.1 , 0.15, 0.05, 0.1 , 0.1 , 0.15, 0.1 ,\n",
       "       0.1 , 0.1 , 0.25, 0.1 , 0.1 , 0.1 , 0.05, 0.1 , 0.15, 0.05, 0.15,\n",
       "       0.05, 0.2 , 0.1 , 0.1 , 0.05, 0.15, 0.1 , 0.15, 0.1 , 0.05, 0.1 ,\n",
       "       0.15, 0.05, 0.1 , 0.05, 0.05, 0.05, 0.2 , 0.25, 0.05, 0.15, 0.  ,\n",
       "       0.1 , 0.05, 0.1 , 0.15, 0.1 , 0.1 , 0.05, 0.2 , 0.2 , 0.15, 0.05,\n",
       "       0.25, 0.1 , 0.1 , 0.05, 0.05, 0.05, 0.  , 0.15, 0.  , 0.15, 0.  ,\n",
       "       0.1 , 0.  , 0.15, 0.15, 0.1 , 0.2 , 0.05, 0.3 , 0.05, 0.  , 0.  ,\n",
       "       0.15, 0.2 , 0.15, 0.15, 0.1 , 0.05, 0.15, 0.2 , 0.1 , 0.  , 0.05,\n",
       "       0.05, 0.1 , 0.05, 0.1 , 0.15, 0.2 , 0.1 , 0.05, 0.15, 0.  , 0.05,\n",
       "       0.05, 0.  , 0.1 , 0.05, 0.15, 0.2 , 0.15, 0.05, 0.05, 0.05, 0.  ,\n",
       "       0.1 , 0.1 , 0.1 , 0.05, 0.15, 0.1 , 0.1 , 0.05, 0.25, 0.3 , 0.05,\n",
       "       0.1 , 0.25, 0.15, 0.2 , 0.  , 0.25, 0.05, 0.25, 0.1 , 0.1 , 0.3 ,\n",
       "       0.1 , 0.05, 0.05, 0.2 , 0.15, 0.15, 0.1 , 0.15, 0.  , 0.1 , 0.05,\n",
       "       0.1 , 0.05, 0.1 , 0.2 , 0.05, 0.05, 0.1 , 0.  , 0.25, 0.15, 0.15,\n",
       "       0.05, 0.1 , 0.25, 0.1 , 0.05, 0.  , 0.25, 0.05, 0.15, 0.  , 0.1 ,\n",
       "       0.25, 0.15, 0.1 , 0.  , 0.1 , 0.05, 0.1 , 0.15, 0.1 , 0.15, 0.1 ,\n",
       "       0.  , 0.05, 0.1 , 0.1 , 0.1 , 0.15, 0.  , 0.05, 0.1 , 0.05, 0.1 ,\n",
       "       0.05, 0.25, 0.15, 0.1 , 0.  , 0.15, 0.05, 0.2 , 0.05, 0.1 , 0.05,\n",
       "       0.05, 0.  , 0.05, 0.15, 0.1 , 0.05, 0.05, 0.  , 0.15, 0.15, 0.1 ,\n",
       "       0.05, 0.  , 0.05, 0.  , 0.1 , 0.05, 0.05, 0.05, 0.15, 0.15, 0.  ,\n",
       "       0.05, 0.05, 0.1 , 0.15, 0.05, 0.  , 0.05, 0.2 , 0.05, 0.1 , 0.05,\n",
       "       0.2 , 0.1 , 0.15, 0.1 , 0.  , 0.1 , 0.  , 0.05, 0.  , 0.15, 0.2 ,\n",
       "       0.2 , 0.1 , 0.05, 0.1 , 0.05, 0.1 , 0.05, 0.05, 0.15, 0.1 , 0.05,\n",
       "       0.15, 0.1 , 0.1 , 0.1 , 0.  , 0.15, 0.15, 0.2 , 0.  , 0.1 , 0.15,\n",
       "       0.2 , 0.1 , 0.1 , 0.05, 0.15, 0.2 , 0.  , 0.15, 0.05, 0.15, 0.1 ,\n",
       "       0.1 , 0.1 , 0.05, 0.  , 0.05, 0.1 , 0.1 , 0.05, 0.  , 0.05, 0.1 ,\n",
       "       0.15, 0.05, 0.05, 0.25, 0.05, 0.05, 0.05, 0.15, 0.  , 0.2 , 0.  ,\n",
       "       0.15, 0.05, 0.15, 0.1 , 0.05, 0.  , 0.1 , 0.2 , 0.  , 0.  , 0.05,\n",
       "       0.2 , 0.15, 0.15, 0.15, 0.05, 0.2 , 0.05, 0.1 , 0.  , 0.1 , 0.1 ,\n",
       "       0.1 , 0.05, 0.15, 0.15, 0.15, 0.1 , 0.15, 0.05, 0.1 , 0.1 , 0.1 ,\n",
       "       0.  , 0.1 , 0.05, 0.15, 0.1 , 0.15, 0.15, 0.  , 0.15, 0.05, 0.05,\n",
       "       0.15, 0.2 , 0.2 , 0.15, 0.15, 0.1 , 0.05, 0.2 , 0.1 , 0.2 , 0.15,\n",
       "       0.05, 0.1 , 0.05, 0.2 , 0.15, 0.05, 0.05, 0.1 , 0.05, 0.  , 0.25,\n",
       "       0.15, 0.1 , 0.05, 0.05, 0.15, 0.1 , 0.1 , 0.15, 0.15, 0.  , 0.05,\n",
       "       0.05, 0.15, 0.1 , 0.2 , 0.1 , 0.1 , 0.15, 0.05, 0.05, 0.05, 0.1 ,\n",
       "       0.05, 0.1 , 0.2 , 0.1 , 0.1 , 0.2 , 0.25, 0.1 , 0.1 , 0.  , 0.1 ,\n",
       "       0.15, 0.05, 0.05, 0.1 , 0.1 , 0.25, 0.05, 0.1 , 0.15, 0.  , 0.1 ,\n",
       "       0.1 , 0.15, 0.05, 0.1 , 0.05, 0.15, 0.05, 0.2 , 0.  , 0.1 , 0.15,\n",
       "       0.1 , 0.1 , 0.05, 0.2 , 0.05, 0.2 , 0.15, 0.1 , 0.  , 0.15, 0.2 ,\n",
       "       0.05, 0.1 , 0.1 , 0.05, 0.  , 0.05, 0.15, 0.15, 0.1 , 0.15, 0.1 ,\n",
       "       0.15, 0.1 , 0.1 , 0.15, 0.15, 0.1 , 0.1 , 0.05, 0.05, 0.05, 0.15,\n",
       "       0.1 , 0.2 , 0.15, 0.05, 0.05, 0.2 , 0.15, 0.1 , 0.1 , 0.05, 0.05,\n",
       "       0.15, 0.1 , 0.1 , 0.1 , 0.15, 0.1 , 0.1 , 0.1 , 0.15, 0.05, 0.05,\n",
       "       0.05, 0.  , 0.15, 0.  , 0.1 , 0.25, 0.1 , 0.15, 0.15, 0.1 , 0.25,\n",
       "       0.2 , 0.2 , 0.2 , 0.15, 0.1 , 0.15, 0.1 , 0.1 , 0.05, 0.2 , 0.05,\n",
       "       0.05, 0.1 , 0.15, 0.  , 0.1 , 0.1 , 0.1 , 0.  , 0.05, 0.2 , 0.1 ,\n",
       "       0.05, 0.2 , 0.1 , 0.2 , 0.05, 0.05, 0.  , 0.05, 0.2 , 0.1 , 0.15,\n",
       "       0.  , 0.05, 0.05, 0.2 , 0.  , 0.1 , 0.1 , 0.1 , 0.1 , 0.15, 0.05,\n",
       "       0.05, 0.15, 0.25, 0.15, 0.15, 0.1 , 0.1 , 0.15, 0.1 , 0.  , 0.05,\n",
       "       0.15, 0.1 , 0.05, 0.1 , 0.05, 0.1 , 0.1 , 0.  , 0.1 , 0.05, 0.  ,\n",
       "       0.05, 0.1 , 0.  , 0.05, 0.  , 0.1 , 0.2 , 0.  , 0.1 , 0.15, 0.05,\n",
       "       0.05, 0.1 , 0.05, 0.05, 0.  , 0.1 , 0.25, 0.1 , 0.1 , 0.1 , 0.1 ,\n",
       "       0.05, 0.05, 0.2 , 0.3 , 0.2 , 0.05, 0.  , 0.3 , 0.25, 0.05, 0.  ,\n",
       "       0.1 , 0.15, 0.25, 0.1 , 0.05, 0.  , 0.2 , 0.1 , 0.15, 0.15, 0.05,\n",
       "       0.05, 0.1 , 0.25, 0.1 , 0.05, 0.1 , 0.  , 0.25, 0.15, 0.15, 0.15,\n",
       "       0.15, 0.  , 0.1 , 0.1 , 0.15, 0.05, 0.05, 0.  , 0.15, 0.  , 0.1 ,\n",
       "       0.05, 0.2 , 0.  , 0.1 , 0.15, 0.1 , 0.1 , 0.  , 0.1 , 0.1 , 0.05,\n",
       "       0.1 , 0.05, 0.15, 0.1 , 0.05, 0.15, 0.05, 0.  , 0.1 , 0.  , 0.05,\n",
       "       0.1 , 0.15, 0.1 , 0.05, 0.15, 0.05, 0.05, 0.05, 0.05, 0.1 , 0.1 ,\n",
       "       0.1 , 0.2 , 0.1 , 0.1 , 0.25, 0.  , 0.1 , 0.1 , 0.1 , 0.1 , 0.2 ,\n",
       "       0.  , 0.1 , 0.1 , 0.15, 0.2 , 0.15, 0.05, 0.05, 0.2 , 0.1 , 0.2 ,\n",
       "       0.15, 0.1 , 0.1 , 0.1 , 0.1 , 0.1 , 0.15, 0.15, 0.05, 0.15, 0.05,\n",
       "       0.15, 0.05, 0.05, 0.2 , 0.  , 0.1 , 0.1 , 0.05, 0.05, 0.05, 0.1 ,\n",
       "       0.1 , 0.1 , 0.05, 0.15, 0.25, 0.15, 0.05, 0.05, 0.05, 0.1 , 0.15,\n",
       "       0.15, 0.05, 0.1 , 0.15, 0.25, 0.1 , 0.15, 0.05, 0.1 , 0.1 , 0.1 ,\n",
       "       0.15, 0.1 , 0.1 , 0.  , 0.05, 0.05, 0.1 , 0.1 , 0.  , 0.1 , 0.15,\n",
       "       0.05, 0.15, 0.05, 0.05, 0.05, 0.1 , 0.1 , 0.15, 0.15, 0.05, 0.15,\n",
       "       0.1 , 0.05, 0.1 , 0.05, 0.1 , 0.1 , 0.1 , 0.15, 0.15, 0.05, 0.05,\n",
       "       0.  , 0.25, 0.1 , 0.05, 0.05, 0.1 , 0.1 , 0.1 , 0.1 , 0.  , 0.15,\n",
       "       0.1 , 0.15, 0.  , 0.05, 0.1 , 0.  , 0.1 , 0.1 , 0.1 , 0.05, 0.  ,\n",
       "       0.05, 0.  , 0.1 , 0.05, 0.15, 0.15, 0.1 , 0.05, 0.  , 0.15, 0.05,\n",
       "       0.1 , 0.1 , 0.05, 0.2 , 0.1 , 0.  , 0.05, 0.1 , 0.2 , 0.1 , 0.15,\n",
       "       0.25, 0.1 , 0.05, 0.1 , 0.1 , 0.2 , 0.15, 0.15, 0.15, 0.1 , 0.2 ,\n",
       "       0.  , 0.05, 0.05, 0.2 , 0.1 , 0.05, 0.05, 0.2 , 0.05, 0.05, 0.15,\n",
       "       0.05, 0.1 , 0.15, 0.1 , 0.15, 0.2 , 0.05, 0.1 , 0.1 , 0.1 , 0.05,\n",
       "       0.05, 0.2 , 0.05, 0.05, 0.05, 0.2 , 0.1 , 0.  , 0.  , 0.15, 0.  ,\n",
       "       0.  , 0.05, 0.2 , 0.15, 0.05, 0.25, 0.1 , 0.1 , 0.05, 0.05, 0.15,\n",
       "       0.1 , 0.3 , 0.05, 0.  , 0.05, 0.15, 0.05, 0.1 , 0.15, 0.1 , 0.2 ,\n",
       "       0.05, 0.05, 0.2 , 0.15, 0.15, 0.1 , 0.15, 0.05, 0.1 , 0.1 , 0.05,\n",
       "       0.1 , 0.15, 0.2 , 0.15, 0.15, 0.2 , 0.  , 0.25, 0.  , 0.05, 0.25,\n",
       "       0.  , 0.15, 0.  , 0.1 , 0.1 , 0.05, 0.15, 0.15, 0.1 , 0.  , 0.1 ,\n",
       "       0.1 , 0.1 , 0.15, 0.2 , 0.05, 0.05, 0.  , 0.  , 0.15, 0.15, 0.05,\n",
       "       0.  , 0.15, 0.3 , 0.1 , 0.1 , 0.15, 0.1 , 0.05, 0.1 , 0.05])"
      ]
     },
     "metadata": {
      "tags": []
     },
     "execution_count": 6
    }
   ]
  },
  {
   "cell_type": "code",
   "metadata": {
    "pycharm": {
     "name": "#%%\n"
    },
    "id": "vOyo849c9pr0",
    "colab_type": "code",
    "outputId": "32e6a39c-b51a-4138-8f59-51fc76493a0a",
    "colab": {
     "base_uri": "https://localhost:8080/",
     "height": 34
    }
   },
   "source": [
    "# TODO: оценить дисперсию средних\n",
    "means_std = np.var(means)\n",
    "means_std"
   ],
   "execution_count": 0,
   "outputs": [
    {
     "output_type": "execute_result",
     "data": {
      "text/plain": [
       "0.0041389999999999995"
      ]
     },
     "metadata": {
      "tags": []
     },
     "execution_count": 7
    }
   ]
  },
  {
   "cell_type": "markdown",
   "metadata": {
    "collapsed": false,
    "id": "-VbmGmEl9pr4",
    "colab_type": "text"
   },
   "source": [
    "### Оценим зависимость дисперсии от числа наблюдений"
   ]
  },
  {
   "cell_type": "code",
   "metadata": {
    "pycharm": {
     "name": "#%%\n"
    },
    "id": "iXuDGaRo9pr5",
    "colab_type": "code",
    "colab": {}
   },
   "source": [
    "# TODO: построить график зависимости дисперсии от числа наблюдений\n",
    "means_stds = []\n",
    "k = np.arange(20, 2000, 20)\n",
    "for i in k:\n",
    "    experiments = binomial(1, P, (i, N))\n",
    "    means = np.mean(experiments, axis=1)\n",
    "    means_stds.append(np.var(means))"
   ],
   "execution_count": 0,
   "outputs": []
  },
  {
   "cell_type": "code",
   "metadata": {
    "id": "gMvPQ5Kij0_U",
    "colab_type": "code",
    "outputId": "5e54c567-b6a1-48a4-ad5b-213d4fbdc443",
    "colab": {
     "base_uri": "https://localhost:8080/",
     "height": 284
    }
   },
   "source": [
    "plt.plot(k, means_stds)"
   ],
   "execution_count": 0,
   "outputs": [
    {
     "output_type": "execute_result",
     "data": {
      "text/plain": [
       "[<matplotlib.lines.Line2D at 0x7f77bf117828>]"
      ]
     },
     "metadata": {
      "tags": []
     },
     "execution_count": 9
    },
    {
     "output_type": "display_data",
     "data": {
      "image/png": "[encoded data removed]",
      "text/plain": [
       "<Figure size 432x288 with 1 Axes>"
      ]
     },
     "metadata": {
      "tags": []
     }
    }
   ]
  },
  {
   "cell_type": "markdown",
   "metadata": {
    "collapsed": false,
    "id": "6mfmWqPD9pr9",
    "colab_type": "text"
   },
   "source": [
    "###  Аппроксимация биномиального распределения нормальным\n",
    "\n",
    "Если n достаточно велико, то в этом случае разумное приближение $\\mathrm{Bin} (n, p)$ дается нормальным распределением: $\\mathcal{N} (np, \\, np (1-p))$"
   ]
  },
  {
   "cell_type": "markdown",
   "metadata": {
    "id": "ZrGfP3x9fEVo",
    "colab_type": "text"
   },
   "source": [
    "<img src=https://upload.wikimedia.org/wikipedia/commons/thumb/b/b7/Binomial_Distribution.svg/1920px-Binomial_Distribution.svg.png width=\"500\"/>"
   ]
  },
  {
   "cell_type": "markdown",
   "metadata": {
    "id": "4u3WERj8xRXG",
    "colab_type": "text"
   },
   "source": [
    "Сравним распределение средних с нормальным\n",
    "\n",
    "$\\mu = p$\n",
    "\n",
    "$\\sigma = \\sqrt{\\frac{p(1-p)}{n}}$"
   ]
  },
  {
   "cell_type": "code",
   "metadata": {
    "pycharm": {
     "name": "#%%\n"
    },
    "id": "QRlRyVhX9pr-",
    "colab_type": "code",
    "colab": {}
   },
   "source": [
    "# https://en.wikipedia.org/wiki/Bernoulli_distribution\n",
    "mean = P\n",
    "std = np.sqrt(P * (1 - P) / N)"
   ],
   "execution_count": 0,
   "outputs": []
  },
  {
   "cell_type": "code",
   "metadata": {
    "pycharm": {
     "name": "#%%\n"
    },
    "id": "QThSvi8f9psB",
    "colab_type": "code",
    "outputId": "944a4eb1-dbb1-43f0-d2f2-fcd6cd2c04ef",
    "colab": {
     "base_uri": "https://localhost:8080/",
     "height": 51
    }
   },
   "source": [
    "# TODO: сравнить распределение с нормальным\n",
    "\n",
    "normal_distr = normal(loc=P, size=N)\n",
    "print(\"norm_mean: %.5f\" % np.mean(normal_distr), \"bin_mean: %.5f\" % mean)\n",
    "print(\"norm_std: %.5f\" % np.std(normal_distr), \"bin_std: %.5f\" % std)"
   ],
   "execution_count": 0,
   "outputs": [
    {
     "output_type": "stream",
     "text": [
      "norm_mean: 0.34210 bin_mean: 0.10000\n",
      "norm_std: 1.06508 bin_std: 0.06708\n"
     ],
     "name": "stdout"
    }
   ]
  },
  {
   "cell_type": "markdown",
   "metadata": {
    "collapsed": false,
    "id": "VxTis8gD9psE",
    "colab_type": "text"
   },
   "source": [
    "### Доверительный интервал"
   ]
  },
  {
   "cell_type": "code",
   "metadata": {
    "pycharm": {
     "name": "#%%\n"
    },
    "id": "9qw-eA1M9psF",
    "colab_type": "code",
    "outputId": "f0ae210e-4e86-4d92-aff5-7f545f1ac23e",
    "colab": {
     "base_uri": "https://localhost:8080/",
     "height": 68
    }
   },
   "source": [
    "confidence = 0.975\n",
    "z = st.norm.ppf(confidence)\n",
    "margin = z * std\n",
    "print(\"z: %s\" % z)\n",
    "print(\"margin: %s\" % margin)\n",
    "print(\"interval: %s %s\" % (P - margin, P + margin))"
   ],
   "execution_count": 0,
   "outputs": [
    {
     "output_type": "stream",
     "text": [
      "z: 1.959963984540054\n",
      "margin: 0.13147838108648724\n",
      "interval: -0.031478381086487234 0.23147838108648724\n"
     ],
     "name": "stdout"
    }
   ]
  },
  {
   "cell_type": "code",
   "metadata": {
    "pycharm": {
     "name": "#%%\n"
    },
    "id": "WMesSy-B9psI",
    "colab_type": "code",
    "colab": {}
   },
   "source": [
    "# TODO: оценить долю средних, вышедших за границы доверительного интервала в эксперименте"
   ],
   "execution_count": 0,
   "outputs": []
  },
  {
   "cell_type": "markdown",
   "metadata": {
    "collapsed": false,
    "id": "qkZIuHGu9ptB",
    "colab_type": "text"
   },
   "source": [
    "## Центральная пределная теорема"
   ]
  },
  {
   "cell_type": "markdown",
   "metadata": {
    "id": "0mwc4G85_GAn",
    "colab_type": "text"
   },
   "source": [
    "https://en.wikipedia.org/wiki/Central_limit_theorem"
   ]
  },
  {
   "cell_type": "markdown",
   "metadata": {
    "id": "Jp4yk8FHAY1P",
    "colab_type": "text"
   },
   "source": [
    "<img src=https://i.ibb.co/0ckyS0F/Screenshot-2020-02-27-at-07-59-01.png width=\"800\"/>\n"
   ]
  },
  {
   "cell_type": "markdown",
   "metadata": {
    "id": "__N6K5STBEkt",
    "colab_type": "text"
   },
   "source": [
    "https://www.youtube.com/watch?v=jvoxEYmQHNM"
   ]
  },
  {
   "cell_type": "code",
   "metadata": {
    "pycharm": {
     "name": "#%%\n"
    },
    "id": "9aw1gU1V9ptH",
    "colab_type": "code",
    "colab": {}
   },
   "source": [
    "POPULATION_STD = 10.0  # задаем дисперсию в популяции"
   ],
   "execution_count": 0,
   "outputs": []
  },
  {
   "cell_type": "code",
   "metadata": {
    "pycharm": {
     "name": "#%%\n"
    },
    "id": "rr0Uk0so9ptK",
    "colab_type": "code",
    "colab": {}
   },
   "source": [
    "# Функция генерации данных экспериментов\n",
    "def gen_expiremnts(mean=0, n_samples=10, n_experiements=500):\n",
    "    return np.random.normal(\n",
    "        loc=mean, scale=POPULATION_STD, size=(n_experiements, n_samples)\n",
    "    )"
   ],
   "execution_count": 0,
   "outputs": []
  },
  {
   "cell_type": "code",
   "metadata": {
    "id": "KRNlYsa__Sfb",
    "colab_type": "code",
    "outputId": "e4d10841-6e36-4b76-956d-3d8916678f4d",
    "colab": {
     "base_uri": "https://localhost:8080/",
     "height": 83
    }
   },
   "source": [
    "gen_expiremnts(mean=0, n_samples=2, n_experiements=4)"
   ],
   "execution_count": 0,
   "outputs": [
    {
     "output_type": "execute_result",
     "data": {
      "text/plain": [
       "array([[-11.74870778, -16.10366074],\n",
       "       [-16.51977189,   2.5857463 ],\n",
       "       [ -2.80656117,  -7.11683738],\n",
       "       [ -0.84156709,   5.04281058]])"
      ]
     },
     "metadata": {
      "tags": []
     },
     "execution_count": 18
    }
   ]
  },
  {
   "cell_type": "code",
   "metadata": {
    "pycharm": {
     "name": "#%%\n"
    },
    "id": "_DPEo4p39ptN",
    "colab_type": "code",
    "colab": {}
   },
   "source": [
    "# Проводим 500 экспериментов с разным числом наблюдений\n",
    "sample_mean_std = []\n",
    "n_samples = list(range(10, 110, 10))\n",
    "for n in n_samples:\n",
    "    data = gen_expiremnts(n_experiements=500, n_samples=n)\n",
    "    means = np.mean(data, axis=1)  # вычисляем среднее для каждого эксперимента\n",
    "    sample_mean_std.append(np.std(means))  # сохраняем дисперсию средних"
   ],
   "execution_count": 0,
   "outputs": []
  },
  {
   "cell_type": "code",
   "metadata": {
    "id": "8d1NoUC3_K8A",
    "colab_type": "code",
    "outputId": "992acb24-2ccc-404e-cb0c-3b9c62b3b26a",
    "colab": {
     "base_uri": "https://localhost:8080/",
     "height": 183
    }
   },
   "source": [
    "sample_mean_std"
   ],
   "execution_count": 0,
   "outputs": [
    {
     "output_type": "execute_result",
     "data": {
      "text/plain": [
       "[3.1112324490239787,\n",
       " 2.142434491589435,\n",
       " 1.884001326858755,\n",
       " 1.5053663047642227,\n",
       " 1.4123529743517556,\n",
       " 1.319072919710401,\n",
       " 1.2229273906832117,\n",
       " 1.1102731805792159,\n",
       " 1.0220140014999959,\n",
       " 0.9664024955499873]"
      ]
     },
     "metadata": {
      "tags": []
     },
     "execution_count": 20
    }
   ]
  },
  {
   "cell_type": "code",
   "metadata": {
    "pycharm": {
     "name": "#%%\n"
    },
    "id": "bnh-mwKS9ptQ",
    "colab_type": "code",
    "colab": {}
   },
   "source": [
    "# Зависимость дисперсии средних от числа наблюдений по ЦПТ\n",
    "sample_mean_std_clt = POPULATION_STD / np.sqrt(n_samples)"
   ],
   "execution_count": 0,
   "outputs": []
  },
  {
   "cell_type": "code",
   "metadata": {
    "pycharm": {
     "name": "#%%\n"
    },
    "id": "Ylsz9DFr9ptX",
    "colab_type": "code",
    "outputId": "8f438fe5-be25-4e36-dfc8-ed90d3fd3a99",
    "colab": {
     "base_uri": "https://localhost:8080/",
     "height": 405
    }
   },
   "source": [
    "# Оцениваем зависимость дисперсии средних от числа наблюдений в эксперименте\n",
    "# Сравниваем с теоретическими значениями по ЦПТ\n",
    "plt.figure(figsize=(10, 6))\n",
    "plt.plot(n_samples, sample_mean_std, \"-o\", n_samples, sample_mean_std_clt, \"-*\")\n",
    "plt.xlabel(\"n_samples\")\n",
    "plt.ylabel(\"sample mean std\")\n",
    "plt.legend([\"experimental\", \"CLT\"])\n",
    "plt.title(\"Sample mean std vs sample size\");"
   ],
   "execution_count": 0,
   "outputs": [
    {
     "output_type": "display_data",
     "data": {
      "image/png": "[encoded data removed]",
      "text/plain": [
       "<Figure size 720x432 with 1 Axes>"
      ]
     },
     "metadata": {
      "tags": []
     }
    }
   ]
  },
  {
   "cell_type": "markdown",
   "metadata": {
    "collapsed": false,
    "id": "8PqpeqzP9psp",
    "colab_type": "text"
   },
   "source": [
    "## Зависимость дисперсии среднего от числа примеров в эксперименте"
   ]
  },
  {
   "cell_type": "code",
   "metadata": {
    "pycharm": {
     "name": "#%%\n"
    },
    "id": "uGDiU5z69pst",
    "colab_type": "code",
    "colab": {}
   },
   "source": [
    "# Функция генерации экспериментов\n",
    "def gen_expiremnts(mean=0, scale=10, n_samples=10, n_experiements=500):\n",
    "    return np.random.normal(loc=mean, scale=scale, size=(n_experiements, n_samples))"
   ],
   "execution_count": 0,
   "outputs": []
  },
  {
   "cell_type": "code",
   "metadata": {
    "pycharm": {
     "name": "#%%\n"
    },
    "id": "qUokZdXV9psw",
    "colab_type": "code",
    "colab": {}
   },
   "source": [
    "# TODO: оценить зависимость дисперсии\n",
    "#       от числа примеров в эксперименте\n",
    "#       (построить график)"
   ],
   "execution_count": 0,
   "outputs": []
  },
  {
   "cell_type": "markdown",
   "metadata": {
    "collapsed": false,
    "id": "FDhqnlGV9ps1",
    "colab_type": "text"
   },
   "source": [
    "### Доверительный интервал для среднего"
   ]
  },
  {
   "cell_type": "code",
   "metadata": {
    "pycharm": {
     "name": "#%%\n"
    },
    "id": "pxC0uVHh9ps2",
    "colab_type": "code",
    "colab": {}
   },
   "source": [
    "# TODO: построить доверительный интервал для n_samles=10\n",
    "#       при уровне значимости 0.95 (95%)\n",
    "confidence = 0.95\n",
    "z = st.norm.ppf(confidence)\n",
    "margin = z * std"
   ],
   "execution_count": 0,
   "outputs": []
  },
  {
   "cell_type": "code",
   "metadata": {
    "pycharm": {
     "name": "#%%\n"
    },
    "id": "jka-tAfR9ps8",
    "colab_type": "code",
    "colab": {}
   },
   "source": [
    "# TODO: провести эксперимент и показать корректность полученного интервала"
   ],
   "execution_count": 0,
   "outputs": []
  },
  {
   "cell_type": "markdown",
   "metadata": {
    "collapsed": false,
    "id": "Eh9RyFqH9ptn",
    "colab_type": "text"
   },
   "source": [
    "## Z-test"
   ]
  },
  {
   "cell_type": "markdown",
   "metadata": {
    "id": "O1NKp8FE--fd",
    "colab_type": "text"
   },
   "source": [
    "https://en.wikipedia.org/wiki/Z-test\n",
    "\n",
    "Z-тест - это любой статистический тест, для которого распределение тестовой статистики в соответствии с нулевой гипотезой может быть аппроксимировано нормальным распределением. Из-за центральной предельной теоремы многие тестовые статистические данные примерно нормально распределяются для больших выборок. Для каждого уровня значимости в доверительном интервале Z-критерий имеет одно критическое значение, что делает его более удобным, чем t-критерий Стьюдента, который имеет отдельные и разные критические значения для каждого размера выборки. Поэтому многие статистические тесты могут быть удобно выполнены как приблизительные Z-тесты, если размер выборки большой."
   ]
  },
  {
   "cell_type": "code",
   "metadata": {
    "pycharm": {
     "name": "#%%\n"
    },
    "id": "2uOw10KT9ptr",
    "colab_type": "code",
    "colab": {}
   },
   "source": [
    "MEAN_A = 10  # среднее значение в эксперименте A\n",
    "MEAN_B = 12  # среднее значение в эксперименте B\n",
    "POPULATION_STD = 10.0  # задаем дисперсию в популяции\n",
    "N_SAMPLES = 250  # число наблюдений в каждом из экспериментов"
   ],
   "execution_count": 0,
   "outputs": []
  },
  {
   "cell_type": "code",
   "metadata": {
    "pycharm": {
     "name": "#%%\n"
    },
    "id": "ZjNR6_AO9ptu",
    "colab_type": "code",
    "colab": {}
   },
   "source": [
    "# Семплируем данные экспериментов\n",
    "X_a = np.random.normal(loc=MEAN_A, scale=POPULATION_STD, size=N_SAMPLES)\n",
    "\n",
    "X_b = np.random.normal(loc=MEAN_B, scale=POPULATION_STD, size=N_SAMPLES)\n",
    "\n",
    "X_mean_a = np.mean(X_a)\n",
    "X_mean_b = np.mean(X_b)"
   ],
   "execution_count": 0,
   "outputs": []
  },
  {
   "cell_type": "code",
   "metadata": {
    "id": "TcBAKKs83fwO",
    "colab_type": "code",
    "outputId": "5dc4ceee-e0e7-4cec-dd02-ea36cc34262b",
    "colab": {
     "base_uri": "https://localhost:8080/",
     "height": 33
    }
   },
   "source": [
    ""
   ],
   "execution_count": 0,
   "outputs": [
    {
     "output_type": "execute_result",
     "data": {
      "text/plain": [
       "250"
      ]
     },
     "metadata": {
      "tags": []
     },
     "execution_count": 32
    }
   ]
  },
  {
   "cell_type": "code",
   "metadata": {
    "pycharm": {
     "name": "#%%\n"
    },
    "id": "wGLalX_G9ptx",
    "colab_type": "code",
    "outputId": "7da6883f-fd1d-4b6b-ae37-dd4d9e255c1d",
    "colab": {
     "base_uri": "https://localhost:8080/",
     "height": 295
    }
   },
   "source": [
    "# Визуализируем данные экспериментов\n",
    "plt.hist([X_a, X_b])\n",
    "plt.axvline(x=X_mean_a, color=\"C0\", linestyle=\"--\")\n",
    "plt.axvline(x=X_mean_b, color=\"C1\", linestyle=\"--\")\n",
    "plt.ylabel(\"Count\")\n",
    "plt.xlabel(\"Value\")\n",
    "plt.title(\"Data histogram and mean\")\n",
    "plt.legend([\"X_a_mean %.3f\" % X_mean_a, \"X_b_mean %.3f\" % X_mean_b, \"X_a\", \"X_b\"]);"
   ],
   "execution_count": 0,
   "outputs": [
    {
     "output_type": "display_data",
     "data": {
      "image/png": "[encoded data removed]",
      "text/plain": [
       "<Figure size 432x288 with 1 Axes>"
      ]
     },
     "metadata": {
      "tags": []
     }
    }
   ]
  },
  {
   "cell_type": "code",
   "metadata": {
    "pycharm": {
     "name": "#%%\n"
    },
    "id": "xqKrZKjB9pt1",
    "colab_type": "code",
    "colab": {}
   },
   "source": [
    "# Оцениваем стандартную ошибку\n",
    "se_a = se_b = POPULATION_STD / np.sqrt(N_SAMPLES)\n",
    "se_ab = np.sqrt(se_a**2 + se_b**2)  # стандартная ошибка разности"
   ],
   "execution_count": 0,
   "outputs": []
  },
  {
   "cell_type": "code",
   "metadata": {
    "pycharm": {
     "name": "#%%\n"
    },
    "id": "0L9NvM7Z9pt3",
    "colab_type": "code",
    "outputId": "0ebafbcd-ea91-4327-9814-61df7c32b310",
    "colab": {
     "base_uri": "https://localhost:8080/",
     "height": 33
    }
   },
   "source": [
    "diff = X_mean_b - X_mean_a  # разность средних значений двух экспериментов\n",
    "z = diff / se_ab  # вычисляем z-статистику\n",
    "z_quantile = st.norm.cdf(z)  # вычисляем квантиль z-статистики\n",
    "print(\"diff=%.2f z=%.2f q=%.2f\" % (diff, z, z_quantile))"
   ],
   "execution_count": 0,
   "outputs": [
    {
     "output_type": "stream",
     "text": [
      "diff=2.43 z=2.72 q=1.00\n"
     ],
     "name": "stdout"
    }
   ]
  },
  {
   "cell_type": "code",
   "metadata": {
    "pycharm": {
     "name": "#%%\n"
    },
    "id": "HdezsYfV9pt6",
    "colab_type": "code",
    "outputId": "ffa33692-521d-4532-8ee9-486f3da97e64",
    "colab": {
     "base_uri": "https://localhost:8080/",
     "height": 281
    }
   },
   "source": [
    "# Визуализируем z-распределение\n",
    "x = np.arange(-3, 3, 0.025)\n",
    "plt.plot(x, st.norm.pdf(x))\n",
    "plt.axvline(z, color=\"k\", linestyle=\"--\")\n",
    "plt.fill_between(x, st.norm.pdf(x), where=x < z)\n",
    "plt.title(\"z-distribution diff=%.2f z=%.2f q=%.2f\" % (diff, z, z_quantile));"
   ],
   "execution_count": 0,
   "outputs": [
    {
     "output_type": "display_data",
     "data": {
      "image/png": "[encoded data removed]",
      "text/plain": [
       "<Figure size 432x288 with 1 Axes>"
      ]
     },
     "metadata": {
      "tags": []
     }
    }
   ]
  },
  {
   "cell_type": "code",
   "metadata": {
    "pycharm": {
     "name": "#%%\n"
    },
    "id": "GZYHiMla9pt8",
    "colab_type": "code",
    "colab": {}
   },
   "source": [
    "# TODO: проведите эксперимент и оцените долю ошибок критерия"
   ],
   "execution_count": 0,
   "outputs": []
  },
  {
   "cell_type": "markdown",
   "metadata": {
    "collapsed": false,
    "id": "iGsiheOd9ptf",
    "colab_type": "text"
   },
   "source": [
    "## Прогноз необходимого числа набюдений эксперимента"
   ]
  },
  {
   "cell_type": "code",
   "metadata": {
    "pycharm": {
     "name": "#%%\n"
    },
    "id": "Ggs0EP_v9ptj",
    "colab_type": "code",
    "colab": {}
   },
   "source": [
    "# TODO: Определить необходимое число наблюдений\n",
    "#       в эксперименте для получения значимого результата:\n",
    "# Текущий уровень конверсии: 1%\n",
    "# Минимальный уровень изменений: +0.1%\n",
    "# Уровень значимости: 95%\n",
    "# Требуемая мощность критерия: 90%"
   ],
   "execution_count": 0,
   "outputs": []
  },
  {
   "cell_type": "markdown",
   "metadata": {
    "id": "J4pQmW4uf6sK",
    "colab_type": "text"
   },
   "source": [
    "Проверить решение можно по ссылке: https://abtestguide.com/abtestsize/"
   ]
  },
  {
   "cell_type": "markdown",
   "metadata": {
    "collapsed": false,
    "id": "PIQaI90b9psM",
    "colab_type": "text"
   },
   "source": [
    "## Проведение эксперимента (A/B тест)"
   ]
  },
  {
   "cell_type": "markdown",
   "metadata": {
    "collapsed": false,
    "id": "g_PkJNCN9psR",
    "colab_type": "text"
   },
   "source": [
    "### Сгенерируем семплы"
   ]
  },
  {
   "cell_type": "code",
   "metadata": {
    "pycharm": {
     "name": "#%%\n"
    },
    "id": "SLeUthWP9psS",
    "colab_type": "code",
    "colab": {}
   },
   "source": [
    "P1 = 0.1\n",
    "P2 = 0.11\n",
    "N1 = 100\n",
    "N2 = 100"
   ],
   "execution_count": 0,
   "outputs": []
  },
  {
   "cell_type": "code",
   "metadata": {
    "pycharm": {
     "name": "#%%\n"
    },
    "id": "D7abdC_L9psV",
    "colab_type": "code",
    "colab": {}
   },
   "source": [
    "sample1 = binomial(1, P1, N1)\n",
    "sample2 = binomial(1, P2, N2)"
   ],
   "execution_count": 0,
   "outputs": []
  },
  {
   "cell_type": "code",
   "metadata": {
    "pycharm": {
     "name": "#%%\n"
    },
    "colab_type": "code",
    "outputId": "2be5e7a2-033d-494e-ea5c-020ad4e150db",
    "id": "Dt0YXtTd9bmJ",
    "colab": {
     "base_uri": "https://localhost:8080/",
     "height": 67
    }
   },
   "source": [
    "mean1 = np.mean(sample1)\n",
    "mean2 = np.mean(sample2)\n",
    "diff = mean1 - mean2\n",
    "print(\"mean1: %s\" % mean1)\n",
    "print(\"mean2: %s\" % mean2)\n",
    "print(\"mean1 - mean2: %s\" % diff)"
   ],
   "execution_count": 0,
   "outputs": [
    {
     "output_type": "stream",
     "text": [
      "mean1: 0.09\n",
      "mean2: 0.12\n",
      "mean1 - mean2: -0.03\n"
     ],
     "name": "stdout"
    }
   ]
  },
  {
   "cell_type": "markdown",
   "metadata": {
    "collapsed": false,
    "id": "QOSzUabH9psb",
    "colab_type": "text"
   },
   "source": [
    "### Оценим выборочное (pooled) среднее и дисперсию"
   ]
  },
  {
   "cell_type": "code",
   "metadata": {
    "pycharm": {
     "name": "#%%\n"
    },
    "id": "R2okMOSF9psb",
    "colab_type": "code",
    "colab": {}
   },
   "source": [
    "P_pool = (np.sum(sample1 == 1) + np.sum(sample2 == 1)) / (N1 + N2)\n",
    "std_pool = np.sqrt(P_pool * (1 - P_pool) / (N1 + N2))"
   ],
   "execution_count": 0,
   "outputs": []
  },
  {
   "cell_type": "code",
   "metadata": {
    "pycharm": {
     "name": "#%%\n"
    },
    "id": "w_6mSSO99psg",
    "colab_type": "code",
    "outputId": "33631674-2d10-4425-c0fa-dce251bb83f6",
    "colab": {
     "base_uri": "https://localhost:8080/",
     "height": 33
    }
   },
   "source": [
    "confidence = 0.975\n",
    "z = st.norm.ppf(confidence)\n",
    "margin = z * std_pool\n",
    "print(\"z: %s\" % z)"
   ],
   "execution_count": 0,
   "outputs": [
    {
     "output_type": "stream",
     "text": [
      "z: 1.959963984540054\n"
     ],
     "name": "stdout"
    }
   ]
  },
  {
   "cell_type": "markdown",
   "metadata": {
    "collapsed": false,
    "id": "YdRXEQdE9psj",
    "colab_type": "text"
   },
   "source": [
    "### Случайно ли различие в средних?"
   ]
  },
  {
   "cell_type": "code",
   "metadata": {
    "pycharm": {
     "name": "#%%\n"
    },
    "id": "8peavugd9psk",
    "colab_type": "code",
    "outputId": "d5284630-87f5-4023-a04c-1c4eb465218c",
    "colab": {
     "base_uri": "https://localhost:8080/",
     "height": 67
    }
   },
   "source": [
    "print(\"margin: %s\" % margin)\n",
    "print(\"diff: %s\" % diff)\n",
    "print(\"Are they different (diff > margin)? -> %s\" % (abs(diff) > margin))"
   ],
   "execution_count": 0,
   "outputs": [
    {
     "output_type": "stream",
     "text": [
      "margin: 0.04248535586968352\n",
      "diff: -0.03\n",
      "Are they different (diff > margin)? -> False\n"
     ],
     "name": "stdout"
    }
   ]
  },
  {
   "cell_type": "code",
   "metadata": {
    "pycharm": {
     "name": "#%%\n"
    },
    "id": "imfSh6Ej9psn",
    "colab_type": "code",
    "colab": {}
   },
   "source": [
    "# TODO: при каком размере семплов разлиие в 1% будет значимым?"
   ],
   "execution_count": 0,
   "outputs": []
  },
  {
   "cell_type": "code",
   "metadata": {
    "id": "1ERg-IyL43Ka",
    "colab_type": "code",
    "colab": {}
   },
   "source": [
    ""
   ],
   "execution_count": 0,
   "outputs": []
  }
 ]
}
